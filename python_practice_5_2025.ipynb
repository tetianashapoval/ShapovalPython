{
  "nbformat": 4,
  "nbformat_minor": 0,
  "metadata": {
    "colab": {
      "provenance": [],
      "include_colab_link": true
    },
    "kernelspec": {
      "name": "python3",
      "display_name": "Python 3"
    },
    "language_info": {
      "name": "python"
    }
  },
  "cells": [
    {
      "cell_type": "markdown",
      "metadata": {
        "id": "view-in-github",
        "colab_type": "text"
      },
      "source": [
        "<a href=\"https://colab.research.google.com/github/tetianashapoval/ShapovalPython/blob/main/python_practice_5_2025.ipynb\" target=\"_parent\"><img src=\"https://colab.research.google.com/assets/colab-badge.svg\" alt=\"Open In Colab\"/></a>"
      ]
    },
    {
      "cell_type": "markdown",
      "source": [
        "# I. OOP"
      ],
      "metadata": {
        "id": "5qV_sehzFCTp"
      }
    },
    {
      "cell_type": "markdown",
      "source": [
        "1. (6б). Створіть клас Building, додайте три атрибути, один з яких має значення за замовчуванням та два методи на свій розсуд."
      ],
      "metadata": {
        "id": "tx_U_hOALyfg"
      }
    },
    {
      "cell_type": "code",
      "source": [
        "class Building:\n",
        "    def __init__(self, type, floors, location=\"default\"):\n",
        "        self.type = type\n",
        "        self.floors = floors\n",
        "        self.location = location\n",
        "\n",
        "    def show_info(self):\n",
        "        print(f\"type: {self.type}\")\n",
        "        print(f\"floors: {self.floors}\")\n",
        "        print(f\"location: {self.location}\")\n",
        "\n",
        "    def change_location(self, loc_update):\n",
        "        self.location = loc_update\n",
        "        print(f\"location is updated: {loc_update}\")"
      ],
      "metadata": {
        "id": "-Vf895KaL88N"
      },
      "execution_count": null,
      "outputs": []
    },
    {
      "cell_type": "markdown",
      "source": [
        "2. (2б). Створіть два обʼєкти цього класу, де один з обʼєктів створюється із дефолтним значенням атрибуту. На одному обʼєкті отримайте значення його атрибуту, а на іншому викличте один з його методів."
      ],
      "metadata": {
        "id": "X_UlOMB0L93w"
      }
    },
    {
      "cell_type": "code",
      "source": [
        "class Building:\n",
        "    def __init__(self, type, floors, location=\"default\"):\n",
        "        self.type = type\n",
        "        self.floors = floors\n",
        "        self.location = location\n",
        "\n",
        "    def show_info(self):\n",
        "        print(f\"type: {self.type}\")\n",
        "        print(f\"floors: {self.floors}\")\n",
        "        print(f\"location: {self.location}\")\n",
        "\n",
        "    def change_location(self, loc_update):\n",
        "        self.location = loc_update\n",
        "        print(f\"location of {self.type} is updated: {loc_update}\")\n",
        "\n",
        "building_1 = Building(\"panel\", 18)\n",
        "building_2 = Building(\"brick\", 5, \"Darnytsia\")\n",
        "\n",
        "print(f\"type of building 1: {building_1.type}\")\n",
        "building_2.change_location(\"Voskresenka\")"
      ],
      "metadata": {
        "id": "7gBu0ESOMCpG",
        "colab": {
          "base_uri": "https://localhost:8080/"
        },
        "outputId": "8360e6fc-7897-4113-f097-41b3a4711c64"
      },
      "execution_count": 7,
      "outputs": [
        {
          "output_type": "stream",
          "name": "stdout",
          "text": [
            "type of building 1: panel\n",
            "location of brick is updated: Voskresenka\n"
          ]
        }
      ]
    },
    {
      "cell_type": "markdown",
      "source": [
        "3. (5б). Створіть клас, де атрибути мають різні рівні доступу. Спробуйте отримати їхні значення та опишіть результати."
      ],
      "metadata": {
        "id": "HoqSCZt1MHn5"
      }
    },
    {
      "cell_type": "code",
      "source": [
        "class Building:\n",
        "    def __init__(self, type, floors, location):\n",
        "        self.type = type\n",
        "        self._floors = floors\n",
        "        self.__location = location\n",
        "    def show_info(self):\n",
        "        print(f\"type: {self.name}\")\n",
        "        print(f\"floors: {self._floors}\")\n",
        "        print(f\"location: {self.__location}\")\n",
        "\n",
        "building = Building(\"panel\", 14, \"Darnytsia\")\n",
        "\n",
        "print(f\"type: {building.type}\")\n",
        "print(f\"floors: {building._floors}\")"
      ],
      "metadata": {
        "id": "r9b3vJxBMSPV",
        "colab": {
          "base_uri": "https://localhost:8080/"
        },
        "outputId": "85a6431d-ddc0-49f0-b49f-5819bfc83f25"
      },
      "execution_count": 12,
      "outputs": [
        {
          "output_type": "stream",
          "name": "stdout",
          "text": [
            "type: panel\n",
            "floors: 14\n"
          ]
        }
      ]
    },
    {
      "cell_type": "markdown",
      "source": [
        "якщо ми спробуємо викликати локацію (print(f\"location: {building.__location}\"), консоль видасть помилку, бо атрибут локації – приватний"
      ],
      "metadata": {
        "id": "Q1x77jEM8waG"
      }
    },
    {
      "cell_type": "markdown",
      "source": [
        "4. (7б). Як ви розумієте термін self? Для чого використовується метод __init __?"
      ],
      "metadata": {
        "id": "5op2m2vgMSkZ"
      }
    },
    {
      "cell_type": "markdown",
      "source": [
        "self посилається на конкретний екземпляр обʼєкта, з яким ми працюємо в даний момент. ініт є конструктором і надає значення атрибутам, коли ми створюємо обʼєкт"
      ],
      "metadata": {
        "id": "DyiPqNRvMasx"
      }
    },
    {
      "cell_type": "markdown",
      "source": [
        "5. (9б). Створіть клас 3D-фігура без атрибутів, з методом get_volume для отримання об'єму фігури, що повертає 0 та __add __, який приймає self та other в якості аргументів, а повертає суму об'ємів 3d-фігур self та other."
      ],
      "metadata": {
        "id": "-6X8EGfjMd2y"
      }
    },
    {
      "cell_type": "code",
      "source": [
        "class Figure3D:\n",
        "    def __init__(self):\n",
        "        pass\n",
        "\n",
        "    def get_volume(self):\n",
        "        return 0\n",
        "\n",
        "    def __add__(self, other):\n",
        "        if isinstance(other, Figure3D):\n",
        "            return self.get_volume() + other.get_volume()\n",
        "        return NotImplemented\n",
        "\n",
        "shape1 = Figure3D()\n",
        "shape2 = Figure3D()\n",
        "\n",
        "volume = shape1 + shape2\n",
        "print(f\"total volume is: {volume}\")"
      ],
      "metadata": {
        "id": "4rvO_wYUMaEr",
        "colab": {
          "base_uri": "https://localhost:8080/"
        },
        "outputId": "b6e00cad-0b04-4e9a-d2aa-2786814892fe"
      },
      "execution_count": 19,
      "outputs": [
        {
          "output_type": "stream",
          "name": "stdout",
          "text": [
            "total volume is: 0\n"
          ]
        }
      ]
    },
    {
      "cell_type": "markdown",
      "source": [
        "6. (11б). Створіть 2 дочірніх класи від 3d-фігура: Циліндр та Куб, які мають атрибути, необхідні для розрахунку об'єму. Визначте метод get_volume в кожному з них так, щоби вони розраховували об'єм у залежності від формули для кожного типу фігури. Створіть обʼєкт класу Циліндр та обʼєкт класу Куб. Виконайте операцію суми за допомогою оператора + між ними, аби знайти сумарний об'єм."
      ],
      "metadata": {
        "id": "SFcKnnv5Mo_z"
      }
    },
    {
      "cell_type": "code",
      "source": [
        "import math\n",
        "\n",
        "class Figure3D:\n",
        "    def __init__(self):\n",
        "        pass\n",
        "\n",
        "    def get_volume(self):\n",
        "        return 0\n",
        "\n",
        "    def __add__(self, other):\n",
        "        if isinstance(other, Figure3D):\n",
        "            return self.get_volume() + other.get_volume()\n",
        "        return NotImplemented\n",
        "\n",
        "class Cylinder(Figure3D):\n",
        "    def __init__(self, radius, height):\n",
        "        super().__init__()\n",
        "        self.radius = radius\n",
        "        self.height = height\n",
        "\n",
        "    def get_volume(self):\n",
        "        return math.pi * (self.radius ** 2) * self.height\n",
        "\n",
        "class Cube(Figure3D):\n",
        "    def __init__(self, length):\n",
        "        super().__init__()\n",
        "        self.length = length\n",
        "\n",
        "    def get_volume(self):\n",
        "        return self.length ** 3\n",
        "\n",
        "\n",
        "cylinder = Cylinder(7, 9)\n",
        "cube = Cube(6)\n",
        "volume = cylinder + cube\n",
        "\n",
        "print(f\"cylinder volume: {cylinder.get_volume()}\")\n",
        "print(f\"cube volume: {cube.get_volume()}\")\n",
        "print(f\"total volume: {volume}\")\n"
      ],
      "metadata": {
        "id": "H3GVNr69Muf3",
        "colab": {
          "base_uri": "https://localhost:8080/"
        },
        "outputId": "1419c277-9599-4214-e181-1d8352527b3f"
      },
      "execution_count": 22,
      "outputs": [
        {
          "output_type": "stream",
          "name": "stdout",
          "text": [
            "cylinder volume: 1385.4423602330987\n",
            "cube volume: 216\n",
            "total volume: 1601.4423602330987\n"
          ]
        }
      ]
    },
    {
      "cell_type": "markdown",
      "source": [
        "7. (3б). Продемонструйте різницю між isinstance та issubclass."
      ],
      "metadata": {
        "id": "HCvR206YMvLK"
      }
    },
    {
      "cell_type": "code",
      "source": [
        "class Ukraine:\n",
        "    pass\n",
        "\n",
        "class Kyiv(Ukraine):\n",
        "    pass\n",
        "\n",
        "class Sumy(Ukraine):\n",
        "    pass\n",
        "\n",
        "zoloti_vorota = Kyiv()\n",
        "petropavlivka = Sumy()\n",
        "\n",
        "print(isinstance(zoloti_vorota, Kyiv))    # true, cause Zoloti is the part of Kyiv\n",
        "print(isinstance(petropavlivka, Kyiv))    # false, cause Petropavlivka is the part of Sumy, not Kyiv\n",
        "\n",
        "print(issubclass(Sumy, Ukraine))    #true, cause Sumy is Ukrainian city\n",
        "print(issubclass(Sumy, Kyiv))      # false, cause Sumy is not part of Kyiv"
      ],
      "metadata": {
        "id": "L_V1bBvDM0GN",
        "colab": {
          "base_uri": "https://localhost:8080/"
        },
        "outputId": "6cecb896-0c66-4ed0-e952-f7d9ef08d7e7"
      },
      "execution_count": 24,
      "outputs": [
        {
          "output_type": "stream",
          "name": "stdout",
          "text": [
            "True\n",
            "False\n",
            "True\n",
            "False\n"
          ]
        }
      ]
    },
    {
      "cell_type": "markdown",
      "source": [
        "8. (13б). Створіть клас EWallet з приватними атрибутами balance та id. Реалізуйте методи поповнення та зняття коштів, забезпечивши належну інкапсуляцію. Підказка: використовуйте декоратори property та setter."
      ],
      "metadata": {
        "id": "jjsaBZ-iM0Qq"
      }
    },
    {
      "cell_type": "code",
      "source": [
        "class EWallet:\n",
        "    def __init__(self, id, balance=0):\n",
        "        self.__id = id\n",
        "        self.__balance = balance\n",
        "\n",
        "    @property\n",
        "    def balance(self):\n",
        "        return self.__balance\n",
        "\n",
        "    @balance.setter\n",
        "    def balance(self, value):\n",
        "        if value < 0:\n",
        "            raise ValueError(\"balance can't be less than 0\")\n",
        "        self.__balance = value\n",
        "\n",
        "    def deposit(self, amount):\n",
        "        if amount <= 0:\n",
        "            raise ValueError(\"sum needs to be more than 0\")\n",
        "        self.balance += amount\n",
        "        print(f\"+ {amount} USD on the acount. your balance: {self.balance}\")\n",
        "\n",
        "    def withdraw(self, amount):\n",
        "        if amount <= 0:\n",
        "            raise ValueError(\"withdrawal amount needs to be more than 0\")\n",
        "        if amount > self.balance:\n",
        "            raise ValueError(\"not enough money on the account\")\n",
        "        self.balance -= amount\n",
        "        print(f\"- {amount} USD from the account. your balance: {self.balance}\")\n",
        "\n",
        "    @property\n",
        "    def id(self):\n",
        "        return self.__id\n",
        "\n",
        "wallet = EWallet(\"Shapoval\", 777)\n",
        "\n",
        "wallet.deposit(100)\n",
        "wallet.withdraw(13)"
      ],
      "metadata": {
        "id": "xCvZ7lh8M7YA",
        "colab": {
          "base_uri": "https://localhost:8080/"
        },
        "outputId": "9ad69b3f-6fec-49e0-a437-9eab343c85c6"
      },
      "execution_count": 28,
      "outputs": [
        {
          "output_type": "stream",
          "name": "stdout",
          "text": [
            "+ 100 USD on the acount. your balance: 877\n",
            "- 13 USD from the account. your balance: 864\n"
          ]
        }
      ]
    },
    {
      "cell_type": "markdown",
      "source": [
        "9. (11б). Створіть клас ShoppingCart, який містить список об'єктів типу Item. Реалізуйте методи для додавання айтемів, їх видалення та відображення списку айтемів."
      ],
      "metadata": {
        "id": "tIzL2SJTM8ft"
      }
    },
    {
      "cell_type": "code",
      "source": [
        "class Item:\n",
        "    def __init__(self, name, price):\n",
        "        self.name = name\n",
        "        self.price = price\n",
        "\n",
        "    def __str__(self):\n",
        "        return f\"{self.name} - ₴{self.price}\"\n",
        "\n",
        "class ShoppingCart:\n",
        "    def __init__(self):\n",
        "        self.items = []\n",
        "\n",
        "    def add_item(self, item):\n",
        "        self.items.append(item)\n",
        "        print(f\"{item.name} has been added to the card\")\n",
        "\n",
        "    def remove_item(self, item_name):\n",
        "        removable_item = None\n",
        "        for item in self.items:\n",
        "            if item.name == item_name:\n",
        "                removable_item = item\n",
        "                break\n",
        "        if removable_item:\n",
        "            self.items.remove(removable_item)\n",
        "            print(f\"{item_name} was removed from the card\")\n",
        "        else:\n",
        "            print(f\"{item_name} is not found\")\n",
        "\n",
        "    def show_items(self):\n",
        "        if not self.items:\n",
        "            print(\"card is empty\")\n",
        "        else:\n",
        "            print(\"items:\")\n",
        "            for item in self.items:\n",
        "                print(item)\n",
        "\n",
        "\n",
        "item1 = Item(\"Lvivske Rizdvyane\", 50)\n",
        "item2 = Item(\"Lays Cheese flavor\", 90)\n",
        "item3 = Item(\"Revo\", 40)\n",
        "cart = ShoppingCart()\n",
        "\n",
        "cart.add_item(item1)\n",
        "cart.add_item(item2)\n",
        "cart.add_item(item3)\n",
        "cart.show_items()\n",
        "cart.remove_item(\"Revo\")\n",
        "cart.show_items()"
      ],
      "metadata": {
        "id": "HWxfJKLtNAUZ",
        "colab": {
          "base_uri": "https://localhost:8080/"
        },
        "outputId": "716e4866-9fa6-41c9-a5e5-b175c8e1c801"
      },
      "execution_count": 31,
      "outputs": [
        {
          "output_type": "stream",
          "name": "stdout",
          "text": [
            "Lvivske Rizdvyane has been added to the card\n",
            "Lays Cheese flavor has been added to the card\n",
            "Revo has been added to the card\n",
            "items:\n",
            "Lvivske Rizdvyane - ₴50\n",
            "Lays Cheese flavor - ₴90\n",
            "Revo - ₴40\n",
            "Revo was removed from the card\n",
            "items:\n",
            "Lvivske Rizdvyane - ₴50\n",
            "Lays Cheese flavor - ₴90\n"
          ]
        }
      ]
    },
    {
      "cell_type": "markdown",
      "source": [
        "10. (13б). Створіть клас Vehicle з атрибутами brand (manufacturer) та production_age. Створіть ще один клас Engine з такими атрибутами, як type (ex. petrol) та size (volume, litres). Створіть клас Car, який успадковує обидва класи Vehicle та Engine. Продемонструйте використання множинної спадковості, створивши обʼєкт класу Car та отримавши mro для цього класу."
      ],
      "metadata": {
        "id": "lmV8pAwwNIqu"
      }
    },
    {
      "cell_type": "code",
      "source": [
        "class Vehicle:\n",
        "    def __init__(self, brand, production_age):\n",
        "        self.brand = brand\n",
        "        self.production_age = production_age\n",
        "\n",
        "    def show_vehicle(self):\n",
        "        return f\"vehicle brand: {self.brand}, age: {self.production_age} years\"\n",
        "\n",
        "class Engine:\n",
        "    def __init__(self, type, size):\n",
        "        self.type = type\n",
        "        self.size = size\n",
        "\n",
        "    def show_engine(self):\n",
        "        return f\"type of the engine: {self.type}, size: {self.size} L\"\n",
        "\n",
        "class Car(Vehicle, Engine):\n",
        "    def __init__(self, brand, production_age, engine_type, engine_size):\n",
        "        Vehicle.__init__(self, brand, production_age)\n",
        "        Engine.__init__(self, engine_type, engine_size)\n",
        "\n",
        "    def show_car(self):\n",
        "        return f\"{self.show_vehicle()}, {self.show_engine()}\"\n",
        "\n",
        "car = Car(\"Zaporozhets'\", 30, \"petrol\", 1.8)\n",
        "print(car.show_car())\n",
        "print(\"mro:\", Car.mro())"
      ],
      "metadata": {
        "id": "R49grKlWNPeN",
        "colab": {
          "base_uri": "https://localhost:8080/"
        },
        "outputId": "42d76038-84ca-4412-c644-9d463c381c74"
      },
      "execution_count": 32,
      "outputs": [
        {
          "output_type": "stream",
          "name": "stdout",
          "text": [
            "vehicle brand: Zaporozhets', age: 30 years, type of the engine: petrol, size: 1.8 L\n",
            "mro: [<class '__main__.Car'>, <class '__main__.Vehicle'>, <class '__main__.Engine'>, <class 'object'>]\n"
          ]
        }
      ]
    },
    {
      "cell_type": "markdown",
      "source": [
        "# II. Iterator"
      ],
      "metadata": {
        "id": "dIJyUiNBFG8G"
      }
    },
    {
      "cell_type": "markdown",
      "source": [
        "11. (4б). Визначте рядок(str) з 4ма різними за значенням символами. Створіть ітератор на основі цього рядка. Викличте 5 разів функцію next на ітераторі, 4ри перших з них огорніть у ф-цію print()."
      ],
      "metadata": {
        "id": "13vsm0NyKIzL"
      }
    },
    {
      "cell_type": "code",
      "source": [
        "word = \"nato\"\n",
        "iterator = iter(word)\n",
        "\n",
        "print(next(iterator))\n",
        "print(next(iterator))\n",
        "print(next(iterator))\n",
        "print(next(iterator))\n",
        "\n",
        "try:\n",
        "    print(next(iterator))\n",
        "except StopIteration:\n",
        "    print(\"iterator was ended\")"
      ],
      "metadata": {
        "id": "81ntabAkKuz-",
        "colab": {
          "base_uri": "https://localhost:8080/"
        },
        "outputId": "da07ac6b-40e7-44bd-c85d-e59d42f80911"
      },
      "execution_count": 37,
      "outputs": [
        {
          "output_type": "stream",
          "name": "stdout",
          "text": [
            "n\n",
            "a\n",
            "t\n",
            "o\n",
            "iterator was ended\n"
          ]
        }
      ]
    },
    {
      "cell_type": "markdown",
      "source": [
        "А що якщо викликати цю ж функцію на рядку?"
      ],
      "metadata": {
        "id": "aekWHGXOLRsO"
      }
    },
    {
      "cell_type": "code",
      "source": [
        "word = \"abcd\"\n",
        "\n",
        "print(next(iter(word)))\n",
        "print(next(iter(word)))\n",
        "print(next(iter(word)))\n",
        "print(next(iter(word)))\n",
        "\n",
        "try:\n",
        "    print(next(iter(word)))\n",
        "except StopIteration:\n",
        "    print(\"iterator was ended\")"
      ],
      "metadata": {
        "id": "mxATGsErLV1i",
        "colab": {
          "base_uri": "https://localhost:8080/"
        },
        "outputId": "a5073bbb-713d-4830-e449-df1f2b7a004f"
      },
      "execution_count": 39,
      "outputs": [
        {
          "output_type": "stream",
          "name": "stdout",
          "text": [
            "a\n",
            "a\n",
            "a\n",
            "a\n",
            "a\n"
          ]
        }
      ]
    },
    {
      "cell_type": "markdown",
      "source": [
        " 12. (5б). Опишіть своїми словами в одному реченні, як ви розумієте різницю між ітерабельними обʼєктами та ітераторами (можна на прикладі)."
      ],
      "metadata": {
        "id": "XwtMEopwJ4pH"
      }
    },
    {
      "cell_type": "markdown",
      "source": [
        "через ітерабельний обʼєкт можна пройтися циклами, а ітератор дозволяє зберігти стан і отримувати елементи поки вони не закінчаться"
      ],
      "metadata": {
        "id": "-sHrODc3KFn8"
      }
    },
    {
      "cell_type": "markdown",
      "source": [
        "13. (11б). Створіть клас, що має визначений Iterator Protocol та при кожному виклику next повертає назву дня тижня, поки вони не вичерпаються. Зверніть увагу, що порядок має значення."
      ],
      "metadata": {
        "id": "E9qJWmNbK8Gl"
      }
    },
    {
      "cell_type": "code",
      "source": [
        "class WeekDays:\n",
        "    def __init__(self):\n",
        "        self.week_days = [\"monday\", \"tuesday\", \"wednesday\", \"thursday\", \"friday\", \"saturday\", \"sunday\"]\n",
        "        self.index = 0\n",
        "\n",
        "    def __iter__(self):\n",
        "        return self\n",
        "\n",
        "    def __next__(self):\n",
        "        if self.index < len(self.week_days):\n",
        "            day = self.week_days[self.index]\n",
        "            self.index += 1\n",
        "            return day\n",
        "        else:\n",
        "            raise StopIteration\n",
        "\n",
        "iterator = WeekDays()\n",
        "for day in iterator:\n",
        "    print(day)"
      ],
      "metadata": {
        "id": "cqx-g_RsLo6I",
        "colab": {
          "base_uri": "https://localhost:8080/"
        },
        "outputId": "84808ed3-da29-4d8a-bc65-6c67903d1c5a"
      },
      "execution_count": 40,
      "outputs": [
        {
          "output_type": "stream",
          "name": "stdout",
          "text": [
            "monday\n",
            "tuesday\n",
            "wednesday\n",
            "thursday\n",
            "friday\n",
            "saturday\n",
            "sunday\n"
          ]
        }
      ]
    },
    {
      "cell_type": "markdown",
      "source": [
        "# Вітаю! Ви велика(ий) молодець, що впоралась(вся). Похваліть себе та побалуйте чимось приємним. Я Вами пишаюся."
      ],
      "metadata": {
        "id": "Z3E3S_s1Fv7-"
      }
    }
  ]
}